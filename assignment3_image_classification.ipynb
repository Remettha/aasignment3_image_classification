{
  "nbformat": 4,
  "nbformat_minor": 0,
  "metadata": {
    "colab": {
      "provenance": []
    },
    "kernelspec": {
      "name": "python3",
      "display_name": "Python 3"
    },
    "language_info": {
      "name": "python"
    }
  },
  "cells": [
    {
      "cell_type": "code",
      "execution_count": 2,
      "metadata": {
        "colab": {
          "base_uri": "https://localhost:8080/"
        },
        "id": "ii45bqWzkaEX",
        "outputId": "e94da946-d23b-4290-820d-5067573b9996"
      },
      "outputs": [
        {
          "output_type": "stream",
          "name": "stdout",
          "text": [
            "This image is a DOG\n"
          ]
        }
      ],
      "source": [
        "import cv2\n",
        "import numpy as np\n",
        "from sklearn.neighbors import KNeighborsClassifier\n",
        "\n",
        "# List of images (manually give names)\n",
        "images = [\"cat1.jpg\", \"cat2.jpg\", \"dog1.jpg\", \"dog2.jpg\"]\n",
        "labels = [0, 0, 1, 1]  # 0 = Cat, 1 = Dog\n",
        "\n",
        "size = (64, 64)\n",
        "data = []\n",
        "\n",
        "# Load each image and resize\n",
        "for file in images:\n",
        "    img = cv2.imread(file)\n",
        "    if img is not None:\n",
        "        img = cv2.resize(img, size)\n",
        "        data.append(img.flatten())\n",
        "\n",
        "# Convert to numpy arrays\n",
        "data = np.array(data)\n",
        "labels = np.array(labels)\n",
        "\n",
        "# Train KNN model\n",
        "model = KNeighborsClassifier(n_neighbors=3)\n",
        "model.fit(data, labels)\n",
        "\n",
        "# Test with one image (example: cat1.jpg)\n",
        "test_img = cv2.imread(\"dog2.jpg\")  # change this name to test any image\n",
        "test_img = cv2.resize(test_img, size)\n",
        "prediction = model.predict([test_img.flatten()])\n",
        "\n",
        "if prediction == 0:\n",
        "    print(\"This image is a CAT\")\n",
        "else:\n",
        "    print(\"This image is a DOG\")"
      ]
    },
    {
      "cell_type": "code",
      "source": [],
      "metadata": {
        "id": "S06gL2GqlJWv"
      },
      "execution_count": null,
      "outputs": []
    }
  ]
}